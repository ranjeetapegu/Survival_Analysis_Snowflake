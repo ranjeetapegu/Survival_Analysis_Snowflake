{
 "metadata": {
  "kernelspec": {
   "display_name": "Streamlit Notebook",
   "name": "streamlit"
  },
  "lastEditStatus": {
   "notebookId": "3fewzdwmfvda2uigbthv",
   "authorId": "6149508575120",
   "authorName": "RPEGU",
   "authorEmail": "ranjeeta.pegu@snowflake.com",
   "sessionId": "722af67d-2e61-427d-8565-908583658351",
   "lastEditTime": 1753530359748
  }
 },
 "nbformat_minor": 5,
 "nbformat": 4,
 "cells": [
  {
   "cell_type": "markdown",
   "id": "6d5ca8a4-5f0c-4804-9adc-161ee0d90b49",
   "metadata": {
    "name": "Introduction",
    "collapsed": false
   },
   "source": "Survival analysis isn’t just for clinical trials. It’s widely used in churn prediction, equipment failure, credit default analysis, and customer behavior modeling. The goal? To estimate the time until an event happens — like a customer churning or a machine breaking down.\n\nIn this notebook, we’ll walk through how to:\n\nCreate synthetic time-to-event data\n\nUse the Kaplan-Meier estimator\n\nImplement survival analysis inside Snowflake using Snowpark Python\n\n"
  },
  {
   "cell_type": "code",
   "id": "3775908f-ca36-4846-8f38-5adca39217f2",
   "metadata": {
    "language": "python",
    "name": "cell1"
   },
   "source": "# Import python packages\nimport streamlit as st\nimport pandas as pd\nfrom lifelines import KaplanMeierFitter\nfrom snowflake.snowpark import functions as F\nimport matplotlib.pyplot as plt\n\n# We can also use Snowpark for our analyses!\nfrom snowflake.snowpark.context import get_active_session\nsession = get_active_session()\n",
   "execution_count": null,
   "outputs": []
  },
  {
   "cell_type": "code",
   "id": "8d50cbf4-0c8d-4950-86cb-114990437ac9",
   "metadata": {
    "language": "python",
    "name": "syn_data"
   },
   "source": "import pandas as pd\nimport numpy as np\n\nnp.random.seed(42)\nn = 500\n\n# Simulate duration and churn status\ndurations = np.random.exponential(scale=365, size=n).astype(int)\nevent_observed = np.random.binomial(1, p=0.7, size=n)\n\ndf = pd.DataFrame({\n    \"user_id\": range(1, n+1),\n    \"duration_days\": durations,\n    \"churned\": event_observed\n})\n\n\nsession.write_pandas(df, \"CHURN_SURVIVAL_DATA\", overwrite=True)",
   "execution_count": null,
   "outputs": []
  },
  {
   "cell_type": "code",
   "id": "98076779-0fcb-436f-88cd-4d2faa94a297",
   "metadata": {
    "language": "python",
    "name": "cell2"
   },
   "outputs": [],
   "source": "from lifelines import KaplanMeierFitter",
   "execution_count": null
  },
  {
   "cell_type": "code",
   "id": "6cfb95f8-d089-4ec2-a841-590d4c17079b",
   "metadata": {
    "language": "python",
    "name": "kaplanMeierFitter"
   },
   "outputs": [],
   "source": "\n\n# Pull the data from Snowflake\nsdf = session.table(\"CHURN_SURVIVAL_DATA\")\npdf = sdf.to_pandas()\n\n# Fit the model\nkmf = KaplanMeierFitter()\nkmf.fit(durations=pdf[\"duration_days\"], event_observed=pdf[\"churned\"])",
   "execution_count": null
  },
  {
   "cell_type": "code",
   "id": "929ed08d-a66a-483e-9625-82d469d35e70",
   "metadata": {
    "language": "python",
    "name": "Visualization"
   },
   "outputs": [],
   "source": "\n\nplt.figure(figsize=(10, 6))\nkmf.plot_survival_function()\nplt.title(\"Kaplan-Meier Survival Curve\")\nplt.xlabel(\"Days Since Signup\")\nplt.ylabel(\"Survival Probability\")\nplt.grid()\nplt.show()",
   "execution_count": null
  }
 ]
}